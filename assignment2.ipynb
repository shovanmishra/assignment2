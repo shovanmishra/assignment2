{
 "cells": [
  {
   "cell_type": "raw",
   "id": "681d39f2",
   "metadata": {},
   "source": [
    "1.What are the two values of the Boolean data type? How do you write them?\n",
    "\n",
    "Ans : TRUE, FALSE  are two values of the boolean data type .\n",
    "      We can write them as TRUE, False or True, False Or 1,0.\n"
   ]
  },
  {
   "cell_type": "raw",
   "id": "4b807306",
   "metadata": {},
   "source": [
    "2. What are the three different types of Boolean operators?\n",
    "Ans: AND, OR, NOT\n"
   ]
  },
  {
   "cell_type": "raw",
   "id": "4fb7fae0",
   "metadata": {},
   "source": [
    "3. Make a list of each Boolean operator's truth tables (i.e. every possible combination of Boolean values for the operator and what it evaluate ).\n",
    "\n",
    "Ans: \n",
    "        Value1    Value2    Not(~value1)     AND(V1 && V2)    OR(V1 || V2)\n",
    "        \n",
    "         True     True      False            True              True\n",
    "         True     False     False            False.            True              \n",
    "         False    True      True             False             True\n",
    "         False    False     True             True              False\n",
    "         \n",
    "         "
   ]
  },
  {
   "cell_type": "raw",
   "id": "c9c7affe",
   "metadata": {},
   "source": [
    "4. What are the values of the following expressions?\n",
    "\n",
    " (5 > 4) and (3 == 5)\n",
    " \n",
    "     Ans: False\n",
    " \n",
    " not (5 > 4)\n",
    "     Ans: False\n",
    "\n",
    " (5 > 4) or (3 == 5)\n",
    "     Ans: True\n",
    "\n",
    "not ((5 > 4) or (3 == 5))\n",
    "    Ans:False\n",
    "\n",
    "(True and True) and (True == False)\n",
    "     Ans: False\n",
    "\n",
    "(not False) or (not True)\n",
    "    Ans: True\n",
    "\n"
   ]
  },
  {
   "cell_type": "raw",
   "id": "b81d1adc",
   "metadata": {},
   "source": [
    "5. What are the six comparison operators?\n",
    "\n",
    "    Ans: ==,!=,<,>,<=,>=\n"
   ]
  },
  {
   "cell_type": "raw",
   "id": "3372f593",
   "metadata": {},
   "source": [
    "6. How do you tell the difference between the equal to and assignment operators?\n",
    "   Describe a condition and when you would use one.\n",
    "   \n",
    "   Ans: \n"
   ]
  },
  {
   "cell_type": "raw",
   "id": "f0b556be",
   "metadata": {},
   "source": [
    "7. Identify the three blocks in this code:\n",
    "spam = 0\n",
    "if spam == 10:\n",
    "print('eggs')\n",
    "if spam > 5:\n",
    "print('bacon')\n",
    "else:\n",
    "print('ham')\n",
    "print('spam')\n",
    "print('spam')\n",
    "\n",
    "Ans: 1st Blocks: print('eggs')\n",
    "     \n",
    "     2nd Block : print(''bacon')\n",
    "     \n",
    "     3rd Block : print('ham')\n",
    "                 print('spam')\n",
    "                 print('spam')\n"
   ]
  },
  {
   "cell_type": "raw",
   "id": "d2ae2a73",
   "metadata": {},
   "source": [
    "8. Write code that prints Hello if 1 is stored in spam, prints Howdy if 2 is stored in spam, and prints Greetings! if anything else is stored in spam.\n",
    "\n",
    "Ans:\n",
    "    Execute bellow code \n",
    "   \n"
   ]
  },
  {
   "cell_type": "code",
   "execution_count": null,
   "id": "f9254dfb",
   "metadata": {},
   "outputs": [],
   "source": [
    "spam = int(input())\n",
    "if spam == 1:\n",
    "    print('Hello')\n",
    "if spam == 2:\n",
    "    print('Howdy')\n",
    "else:\n",
    "    print('Greetings!')\n",
    "        "
   ]
  },
  {
   "cell_type": "raw",
   "id": "2435b7a5",
   "metadata": {},
   "source": [
    "9.If your programme is stuck in an endless loop, what keys you’ll press?\n",
    "\n",
    "Ans: Ctrl+C"
   ]
  },
  {
   "cell_type": "raw",
   "id": "ad2573b5",
   "metadata": {},
   "source": [
    "10. How can you tell the difference between break and continue?\n",
    "\n",
    "Break :- (i)You can denote it as: break;\n",
    "         (ii)Break terminates the execution of the current loop and passes the control over the next loop or main body\n",
    "\n",
    "Continue:- (i)You can denote it as: ccontinue;\n",
    "           (ii)Continue skips the current iteration and executes the very next iteration in the loop. "
   ]
  },
  {
   "cell_type": "raw",
   "id": "4228edf6",
   "metadata": {},
   "source": [
    "11. In a for loop, what is the difference between range(10), range(0, 10), and range(0, 10, 1)?\n"
   ]
  },
  {
   "cell_type": "raw",
   "id": "8f8d8c00",
   "metadata": {},
   "source": [
    "range(10) : it will print 0 to 9 , here starting point default 0 ,skip is default 1\n",
    "\n",
    "range(0, 10) : it will print 0 to 9 , here starting point declared as 0 , skip default 1\n",
    "\n",
    "range(0, 10, 1): it will print 0 to 9 , here starting point declared as 0 , skip declared as 1"
   ]
  },
  {
   "cell_type": "raw",
   "id": "feeb0c1c",
   "metadata": {},
   "source": [
    "\n",
    "12. Write a short program that prints the numbers 1 to 10 using a for loop. Then write an equivalent program that prints the numbers 1 to 10 using a while loop.\n",
    "\n",
    "Ans: "
   ]
  },
  {
   "cell_type": "code",
   "execution_count": null,
   "id": "49c7b308",
   "metadata": {},
   "outputs": [],
   "source": [
    "for x in range(1,11):\n",
    "  print(x) "
   ]
  },
  {
   "cell_type": "code",
   "execution_count": null,
   "id": "2ae8790f",
   "metadata": {},
   "outputs": [],
   "source": [
    "i = 1\n",
    "while i < 11:\n",
    "  print(i)\n",
    "  i += 1"
   ]
  },
  {
   "cell_type": "raw",
   "id": "5cc91d3d",
   "metadata": {},
   "source": [
    "13. If you had a function named bacon() inside a module named spam, how would you call it after importing spam?"
   ]
  },
  {
   "cell_type": "code",
   "execution_count": null,
   "id": "43fee9a5",
   "metadata": {},
   "outputs": [],
   "source": [
    "Ans: \n",
    "    spam.bacon()"
   ]
  }
 ],
 "metadata": {
  "kernelspec": {
   "display_name": "Python 3 (ipykernel)",
   "language": "python",
   "name": "python3"
  },
  "language_info": {
   "codemirror_mode": {
    "name": "ipython",
    "version": 3
   },
   "file_extension": ".py",
   "mimetype": "text/x-python",
   "name": "python",
   "nbconvert_exporter": "python",
   "pygments_lexer": "ipython3",
   "version": "3.9.12"
  }
 },
 "nbformat": 4,
 "nbformat_minor": 5
}
